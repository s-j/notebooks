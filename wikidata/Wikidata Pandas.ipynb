{
 "cells": [
  {
   "cell_type": "code",
   "execution_count": 1,
   "metadata": {
    "collapsed": true
   },
   "outputs": [],
   "source": [
    "import pandas as pd"
   ]
  },
  {
   "cell_type": "markdown",
   "metadata": {},
   "source": [
    "### Load data"
   ]
  },
  {
   "cell_type": "code",
   "execution_count": 2,
   "metadata": {
    "collapsed": false
   },
   "outputs": [],
   "source": [
    "labels = pd.read_json('./wikidata-20170313_combined/labels_en.txt', lines=True).drop(['language'], axis=1).set_index('id')"
   ]
  },
  {
   "cell_type": "code",
   "execution_count": 10,
   "metadata": {
    "collapsed": true
   },
   "outputs": [],
   "source": [
    "aliases = pd.read_json('./wikidata-20170313_combined/aliases_en.txt', lines=True).drop(['language'], axis=1).set_index('id')"
   ]
  },
  {
   "cell_type": "code",
   "execution_count": 3,
   "metadata": {
    "collapsed": false
   },
   "outputs": [],
   "source": [
    "instances = pd.read_json('./wikidata-20170313_combined/instances.txt', lines=True)"
   ]
  },
  {
   "cell_type": "code",
   "execution_count": 4,
   "metadata": {
    "collapsed": false
   },
   "outputs": [],
   "source": [
    "subclasses = pd.read_json('./wikidata-20170313_combined/subclasses.txt', lines=True)"
   ]
  },
  {
   "cell_type": "markdown",
   "metadata": {},
   "source": [
    "### Find most popular categories"
   ]
  },
  {
   "cell_type": "code",
   "execution_count": 5,
   "metadata": {
    "collapsed": false
   },
   "outputs": [],
   "source": [
    "count_by_parent = instances.groupby('parent').size().reset_index(name='count').sort_values(['count'], ascending=False).set_index('parent')"
   ]
  },
  {
   "cell_type": "code",
   "execution_count": 6,
   "metadata": {
    "collapsed": false
   },
   "outputs": [],
   "source": [
    "labeled_count_by_parent = count_by_parent.join(labels)"
   ]
  },
  {
   "cell_type": "code",
   "execution_count": 11,
   "metadata": {
    "collapsed": false
   },
   "outputs": [
    {
     "data": {
      "text/html": [
       "<div>\n",
       "<table border=\"1\" class=\"dataframe\">\n",
       "  <thead>\n",
       "    <tr style=\"text-align: right;\">\n",
       "      <th></th>\n",
       "      <th>count</th>\n",
       "      <th>value</th>\n",
       "    </tr>\n",
       "    <tr>\n",
       "      <th>parent</th>\n",
       "      <th></th>\n",
       "      <th></th>\n",
       "    </tr>\n",
       "  </thead>\n",
       "  <tbody>\n",
       "    <tr>\n",
       "      <th>Q5</th>\n",
       "      <td>3409748</td>\n",
       "      <td>human</td>\n",
       "    </tr>\n",
       "    <tr>\n",
       "      <th>Q4167836</th>\n",
       "      <td>2885637</td>\n",
       "      <td>Wikimedia category</td>\n",
       "    </tr>\n",
       "    <tr>\n",
       "      <th>Q16521</th>\n",
       "      <td>2207829</td>\n",
       "      <td>taxon</td>\n",
       "    </tr>\n",
       "    <tr>\n",
       "      <th>Q4167410</th>\n",
       "      <td>1061456</td>\n",
       "      <td>Wikimedia disambiguation page</td>\n",
       "    </tr>\n",
       "    <tr>\n",
       "      <th>Q11266439</th>\n",
       "      <td>890965</td>\n",
       "      <td>Wikimedia template</td>\n",
       "    </tr>\n",
       "    <tr>\n",
       "      <th>Q13442814</th>\n",
       "      <td>616257</td>\n",
       "      <td>scientific article</td>\n",
       "    </tr>\n",
       "    <tr>\n",
       "      <th>Q13100073</th>\n",
       "      <td>588496</td>\n",
       "      <td>village-level division in China</td>\n",
       "    </tr>\n",
       "    <tr>\n",
       "      <th>Q486972</th>\n",
       "      <td>385949</td>\n",
       "      <td>human settlement</td>\n",
       "    </tr>\n",
       "    <tr>\n",
       "      <th>Q532</th>\n",
       "      <td>282336</td>\n",
       "      <td>village</td>\n",
       "    </tr>\n",
       "    <tr>\n",
       "      <th>Q8502</th>\n",
       "      <td>281304</td>\n",
       "      <td>mountain</td>\n",
       "    </tr>\n",
       "    <tr>\n",
       "      <th>Q79007</th>\n",
       "      <td>268247</td>\n",
       "      <td>street</td>\n",
       "    </tr>\n",
       "    <tr>\n",
       "      <th>Q13406463</th>\n",
       "      <td>251053</td>\n",
       "      <td>Wikimedia list article</td>\n",
       "    </tr>\n",
       "    <tr>\n",
       "      <th>Q17329259</th>\n",
       "      <td>241163</td>\n",
       "      <td>encyclopedic article</td>\n",
       "    </tr>\n",
       "    <tr>\n",
       "      <th>Q4022</th>\n",
       "      <td>224105</td>\n",
       "      <td>river</td>\n",
       "    </tr>\n",
       "    <tr>\n",
       "      <th>Q17633526</th>\n",
       "      <td>207921</td>\n",
       "      <td>Wikinews article</td>\n",
       "    </tr>\n",
       "    <tr>\n",
       "      <th>Q3305213</th>\n",
       "      <td>202122</td>\n",
       "      <td>painting</td>\n",
       "    </tr>\n",
       "    <tr>\n",
       "      <th>Q23397</th>\n",
       "      <td>201446</td>\n",
       "      <td>lake</td>\n",
       "    </tr>\n",
       "    <tr>\n",
       "      <th>Q482994</th>\n",
       "      <td>197444</td>\n",
       "      <td>album</td>\n",
       "    </tr>\n",
       "    <tr>\n",
       "      <th>Q11424</th>\n",
       "      <td>191341</td>\n",
       "      <td>film</td>\n",
       "    </tr>\n",
       "    <tr>\n",
       "      <th>Q355304</th>\n",
       "      <td>173429</td>\n",
       "      <td>watercourse</td>\n",
       "    </tr>\n",
       "  </tbody>\n",
       "</table>\n",
       "</div>"
      ],
      "text/plain": [
       "             count                            value\n",
       "parent                                             \n",
       "Q5         3409748                            human\n",
       "Q4167836   2885637               Wikimedia category\n",
       "Q16521     2207829                            taxon\n",
       "Q4167410   1061456    Wikimedia disambiguation page\n",
       "Q11266439   890965               Wikimedia template\n",
       "Q13442814   616257               scientific article\n",
       "Q13100073   588496  village-level division in China\n",
       "Q486972     385949                 human settlement\n",
       "Q532        282336                          village\n",
       "Q8502       281304                         mountain\n",
       "Q79007      268247                           street\n",
       "Q13406463   251053           Wikimedia list article\n",
       "Q17329259   241163             encyclopedic article\n",
       "Q4022       224105                            river\n",
       "Q17633526   207921                 Wikinews article\n",
       "Q3305213    202122                         painting\n",
       "Q23397      201446                             lake\n",
       "Q482994     197444                            album\n",
       "Q11424      191341                             film\n",
       "Q355304     173429                      watercourse"
      ]
     },
     "execution_count": 11,
     "metadata": {},
     "output_type": "execute_result"
    }
   ],
   "source": [
    "labeled_count_by_parent.head(20)"
   ]
  },
  {
   "cell_type": "markdown",
   "metadata": {},
   "source": [
    "### Example: Find all humans!"
   ]
  },
  {
   "cell_type": "code",
   "execution_count": 79,
   "metadata": {
    "collapsed": false
   },
   "outputs": [],
   "source": [
    "humans = instances[instances.parent == 'Q5']['child'].reset_index().drop('index', axis=1).set_index('child').join(labels, how='left')"
   ]
  },
  {
   "cell_type": "code",
   "execution_count": 80,
   "metadata": {
    "collapsed": true
   },
   "outputs": [],
   "source": [
    "humans.index.name = 'id'"
   ]
  },
  {
   "cell_type": "code",
   "execution_count": 81,
   "metadata": {
    "collapsed": false
   },
   "outputs": [
    {
     "data": {
      "text/html": [
       "<div>\n",
       "<table border=\"1\" class=\"dataframe\">\n",
       "  <thead>\n",
       "    <tr style=\"text-align: right;\">\n",
       "      <th></th>\n",
       "      <th>value</th>\n",
       "    </tr>\n",
       "    <tr>\n",
       "      <th>id</th>\n",
       "      <th></th>\n",
       "    </tr>\n",
       "  </thead>\n",
       "  <tbody>\n",
       "    <tr>\n",
       "      <th>Q10000001</th>\n",
       "      <td>Tatyana Kolotilshchikova</td>\n",
       "    </tr>\n",
       "    <tr>\n",
       "      <th>Q1000002</th>\n",
       "      <td>Claus Hammel</td>\n",
       "    </tr>\n",
       "    <tr>\n",
       "      <th>Q1000005</th>\n",
       "      <td>Karel Matěj Čapek-Chod</td>\n",
       "    </tr>\n",
       "    <tr>\n",
       "      <th>Q1000006</th>\n",
       "      <td>Florian Eichinger</td>\n",
       "    </tr>\n",
       "    <tr>\n",
       "      <th>Q1000015</th>\n",
       "      <td>Florian Jahr</td>\n",
       "    </tr>\n",
       "  </tbody>\n",
       "</table>\n",
       "</div>"
      ],
      "text/plain": [
       "                              value\n",
       "id                                 \n",
       "Q10000001  Tatyana Kolotilshchikova\n",
       "Q1000002               Claus Hammel\n",
       "Q1000005     Karel Matěj Čapek-Chod\n",
       "Q1000006          Florian Eichinger\n",
       "Q1000015               Florian Jahr"
      ]
     },
     "execution_count": 81,
     "metadata": {},
     "output_type": "execute_result"
    }
   ],
   "source": [
    "humans.head()"
   ]
  },
  {
   "cell_type": "code",
   "execution_count": 72,
   "metadata": {
    "collapsed": false,
    "scrolled": false
   },
   "outputs": [
    {
     "data": {
      "text/plain": [
       "value    Douglas Adams\n",
       "Name: Q42, dtype: object"
      ]
     },
     "execution_count": 72,
     "metadata": {},
     "output_type": "execute_result"
    }
   ],
   "source": [
    "humans.loc['Q42']"
   ]
  },
  {
   "cell_type": "code",
   "execution_count": 82,
   "metadata": {
    "collapsed": false
   },
   "outputs": [
    {
     "data": {
      "text/html": [
       "<div>\n",
       "<table border=\"1\" class=\"dataframe\">\n",
       "  <thead>\n",
       "    <tr style=\"text-align: right;\">\n",
       "      <th></th>\n",
       "      <th>value</th>\n",
       "    </tr>\n",
       "    <tr>\n",
       "      <th>id</th>\n",
       "      <th></th>\n",
       "    </tr>\n",
       "  </thead>\n",
       "  <tbody>\n",
       "    <tr>\n",
       "      <th>Q42</th>\n",
       "      <td>Douglas Noël Adams</td>\n",
       "    </tr>\n",
       "    <tr>\n",
       "      <th>Q42</th>\n",
       "      <td>Douglas Noel Adams</td>\n",
       "    </tr>\n",
       "    <tr>\n",
       "      <th>Q42</th>\n",
       "      <td>Douglas N. Adams</td>\n",
       "    </tr>\n",
       "    <tr>\n",
       "      <th>Q42</th>\n",
       "      <td>DNA</td>\n",
       "    </tr>\n",
       "  </tbody>\n",
       "</table>\n",
       "</div>"
      ],
      "text/plain": [
       "                  value\n",
       "id                     \n",
       "Q42  Douglas Noël Adams\n",
       "Q42  Douglas Noel Adams\n",
       "Q42    Douglas N. Adams\n",
       "Q42                 DNA"
      ]
     },
     "execution_count": 82,
     "metadata": {},
     "output_type": "execute_result"
    }
   ],
   "source": [
    "aliases.loc['Q42']"
   ]
  },
  {
   "cell_type": "code",
   "execution_count": 86,
   "metadata": {
    "collapsed": false
   },
   "outputs": [],
   "source": [
    "# FIXME: Merge a join of humans with itself and and with aliases\n",
    "# and verify that humans_with_aliases.loc['Q42'] gives 5 different vaiants.\n",
    "#\n",
    "# Alternatively, skip the join but make sure that the output will contain \n",
    "# all 5 variants as keys and \"Douglas Adams\" as the corresponding value."
   ]
  },
  {
   "cell_type": "code",
   "execution_count": null,
   "metadata": {
    "collapsed": true
   },
   "outputs": [],
   "source": []
  }
 ],
 "metadata": {
  "anaconda-cloud": {},
  "kernelspec": {
   "display_name": "Python [conda root]",
   "language": "python",
   "name": "conda-root-py"
  },
  "language_info": {
   "codemirror_mode": {
    "name": "ipython",
    "version": 3
   },
   "file_extension": ".py",
   "mimetype": "text/x-python",
   "name": "python",
   "nbconvert_exporter": "python",
   "pygments_lexer": "ipython3",
   "version": "3.5.2"
  }
 },
 "nbformat": 4,
 "nbformat_minor": 1
}
