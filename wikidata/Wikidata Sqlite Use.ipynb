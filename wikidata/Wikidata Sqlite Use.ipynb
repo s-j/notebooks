{
 "cells": [
  {
   "cell_type": "code",
   "execution_count": 1,
   "metadata": {
    "collapsed": true
   },
   "outputs": [],
   "source": [
    "import json\n",
    "import sqlite3"
   ]
  },
  {
   "cell_type": "markdown",
   "metadata": {},
   "source": [
    "### Create the database"
   ]
  },
  {
   "cell_type": "code",
   "execution_count": 2,
   "metadata": {
    "collapsed": false
   },
   "outputs": [],
   "source": [
    "sqlite_file = 'wikidata_en.sqlite'\n",
    "conn = sqlite3.connect(sqlite_file)\n",
    "c = conn.cursor()"
   ]
  },
  {
   "cell_type": "markdown",
   "metadata": {
    "collapsed": true
   },
   "source": [
    "### Test data"
   ]
  },
  {
   "cell_type": "code",
   "execution_count": 3,
   "metadata": {
    "collapsed": false
   },
   "outputs": [
    {
     "name": "stdout",
     "output_type": "stream",
     "text": [
      "[('Douglas Noël Adams',), ('Douglas Noel Adams',), ('Douglas N. Adams',), ('DNA',)]\n"
     ]
    }
   ],
   "source": [
    "c.execute('SELECT alias FROM aliases WHERE id = 42')\n",
    "print(c.fetchall())"
   ]
  },
  {
   "cell_type": "code",
   "execution_count": 4,
   "metadata": {
    "collapsed": false,
    "scrolled": true
   },
   "outputs": [
    {
     "name": "stdout",
     "output_type": "stream",
     "text": [
      "[('Douglas Adams',)]\n"
     ]
    }
   ],
   "source": [
    "c.execute('SELECT label FROM labels WHERE id = 42')\n",
    "print(c.fetchall())"
   ]
  },
  {
   "cell_type": "code",
   "execution_count": 5,
   "metadata": {
    "collapsed": false
   },
   "outputs": [
    {
     "name": "stdout",
     "output_type": "stream",
     "text": [
      "[(5,)]\n"
     ]
    }
   ],
   "source": [
    "c.execute('SELECT parent_id FROM instances WHERE child_id = 42')\n",
    "print(c.fetchall())"
   ]
  },
  {
   "cell_type": "code",
   "execution_count": 6,
   "metadata": {
    "collapsed": false
   },
   "outputs": [
    {
     "name": "stdout",
     "output_type": "stream",
     "text": [
      "[(14788575,)]\n"
     ]
    }
   ],
   "source": [
    "c.execute('SELECT parent_id FROM subclasses WHERE child_id = 532')\n",
    "print(c.fetchall())"
   ]
  },
  {
   "cell_type": "code",
   "execution_count": 12,
   "metadata": {
    "collapsed": false
   },
   "outputs": [
    {
     "data": {
      "text/plain": [
       "<sqlite3.Cursor at 0x7f8698735030>"
      ]
     },
     "execution_count": 12,
     "metadata": {},
     "output_type": "execute_result"
    }
   ],
   "source": [
    "c.execute('SELECT * FROM labels WHERE id IN (SELECT child_id FROM instances WHERE parent_id = 5) LIMIT 100')\n"
   ]
  },
  {
   "cell_type": "code",
   "execution_count": 13,
   "metadata": {
    "collapsed": false
   },
   "outputs": [
    {
     "name": "stdout",
     "output_type": "stream",
     "text": [
      "[(23, 'George Washington'), (42, 'Douglas Adams'), (76, 'Barack Obama'), (80, 'Tim Berners-Lee'), (91, 'Abraham Lincoln'), (157, 'François Hollande'), (181, 'Jimmy Wales'), (185, 'Larry Sanger'), (186, 'Ken Jennings'), (192, 'David Cameron'), (206, 'Stephen Harper'), (207, 'George W. Bush'), (254, 'Wolfgang Amadeus Mozart'), (255, 'Ludwig van Beethoven'), (260, 'Jean-François Champollion'), (272, 'Paul Morand'), (296, 'Claude Monet'), (297, 'Diego Velázquez'), (301, 'El Greco'), (302, 'Jesus Christ'), (303, 'Elvis Presley'), (306, 'Sebastián Piñera'), (307, 'Galileo Galilei'), (320, 'Michelle Bachelet'), (326, 'Eduardo Frei Ruiz-Tagle'), (329, 'Nicolas Sarkozy'), (331, 'Ricardo Lagos'), (335, 'Patricio Aylwin'), (346, 'Louis IX of France'), (352, 'Adolf Hitler'), (353, 'Blanche of Castile'), (354, 'Piet Kraak'), (360, 'Julian Assange'), (368, 'Augusto Pinochet'), (377, 'Yanka Kupala'), (379, 'František Plánička'), (392, 'Bob Dylan'), (400, 'Jenna Jameson'), (407, 'Linda Lovelace'), (409, 'Bob Marley'), (410, 'Carl Sagan'), (440, 'Salvador Allende'), (444, 'Lech Wałęsa'), (448, 'Denis Diderot'), (449, 'Georges Brassens'), (464, 'Philipp Ludwig von Seidel'), (475, 'Eduardo Frei Montalva'), (489, 'Bill Maher'), (493, 'Arthur Rimbaud'), (498, 'Ulrich Frédéric Woldemar, Comte de Lowendal'), (501, 'Charles Baudelaire'), (502, 'Stendhal'), (504, 'Émile Zola'), (512, 'Vladimir Vysotsky'), (517, 'Napoleon'), (529, 'Louis Pasteur'), (530, 'Ingemar Stenmark'), (535, 'Victor Hugo'), (539, 'Giuseppe Garibaldi'), (555, 'Rachel Maddow'), (557, 'Patti Smith'), (558, 'Hedi Slimane'), (559, 'Claude Bourgelat'), (562, 'Pierre Poivre'), (563, 'Brigitte Fontaine'), (567, 'Angela Merkel'), (576, 'Jorge Alessandri'), (579, 'Carlos Ibáñez del Campo'), (590, 'Luís de Camões'), (600, 'Ichiro Suzuki'), (603, 'Frédéric Taddeï'), (605, 'Ezra Klein'), (607, 'Michael Bloomberg'), (609, 'Kateri Tekakwitha'), (615, 'Lionel Messi'), (619, 'Nicolaus Copernicus'), (624, 'Alessandro Del Piero'), (632, 'Jean Moulin'), (633, 'Neil Young'), (635, 'Cleopatra'), (636, 'Kate Bush'), (651, 'Friedrich Theodor Vischer'), (675, 'André-Marie Ampère'), (680, 'Alessandro Volta'), (687, 'Molière'), (692, 'William Shakespeare'), (714, 'Stevie Wonder'), (720, 'Genghis Khan'), (742, 'Jean Racine'), (747, 'Pierre Corneille'), (755, 'Paul Verlaine'), (762, 'Leonardo da Vinci'), (765, 'Dario Fo'), (767, 'Stéphane Mallarmé'), (814, 'Nicole Natalie Marrow'), (815, 'Gabriel Gonzáles Videla'), (820, 'Juan Antonio Rios'), (835, 'Mikhail Bulgakov'), (838, 'Andrei Rublev'), (839, 'Georgina Cassar')]\n"
     ]
    }
   ],
   "source": [
    "print(c.fetchall())"
   ]
  }
 ],
 "metadata": {
  "anaconda-cloud": {},
  "kernelspec": {
   "display_name": "Python [conda root]",
   "language": "python",
   "name": "conda-root-py"
  },
  "language_info": {
   "codemirror_mode": {
    "name": "ipython",
    "version": 3
   },
   "file_extension": ".py",
   "mimetype": "text/x-python",
   "name": "python",
   "nbconvert_exporter": "python",
   "pygments_lexer": "ipython3",
   "version": "3.5.2"
  }
 },
 "nbformat": 4,
 "nbformat_minor": 1
}
