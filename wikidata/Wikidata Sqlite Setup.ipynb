{
 "cells": [
  {
   "cell_type": "code",
   "execution_count": 1,
   "metadata": {
    "collapsed": true
   },
   "outputs": [],
   "source": [
    "import json\n",
    "import sqlite3"
   ]
  },
  {
   "cell_type": "code",
   "execution_count": 2,
   "metadata": {
    "collapsed": true
   },
   "outputs": [],
   "source": [
    "def load(file_name):\n",
    "    with open(file_name, 'r', encoding='utf-8') as f:\n",
    "        for line in f:\n",
    "            yield json.loads(line)"
   ]
  },
  {
   "cell_type": "markdown",
   "metadata": {},
   "source": [
    "### Create the database"
   ]
  },
  {
   "cell_type": "code",
   "execution_count": 3,
   "metadata": {
    "collapsed": false
   },
   "outputs": [],
   "source": [
    "sqlite_file = 'wikidata_en.sqlite'\n",
    "conn = sqlite3.connect(sqlite_file)\n",
    "c = conn.cursor()"
   ]
  },
  {
   "cell_type": "markdown",
   "metadata": {},
   "source": [
    "### Load and store aliases"
   ]
  },
  {
   "cell_type": "code",
   "execution_count": 4,
   "metadata": {
    "collapsed": false
   },
   "outputs": [
    {
     "data": {
      "text/plain": [
       "<sqlite3.Cursor at 0x7f66702c80a0>"
      ]
     },
     "execution_count": 4,
     "metadata": {},
     "output_type": "execute_result"
    }
   ],
   "source": [
    "c.execute('CREATE TABLE aliases(alias_id integer PRIMARY KEY AUTOINCREMENT, id integer NOT NULL, alias char(100) NOT NULL)')"
   ]
  },
  {
   "cell_type": "code",
   "execution_count": 5,
   "metadata": {
    "collapsed": false,
    "scrolled": false
   },
   "outputs": [
    {
     "name": "stdout",
     "output_type": "stream",
     "text": [
      "inserted  1000000\n",
      "inserted  2000000\n",
      "inserted  3000000\n"
     ]
    }
   ],
   "source": [
    "count = 0\n",
    "for rec in load('./wikidata-20170313_combined/aliases_en.txt'):\n",
    "    query = 'INSERT INTO aliases (id, alias) VALUES ({id}, \"{alias}\")'.format(id=rec['id'].replace('Q', ''), alias=rec['value'].replace('\"','\"\"'))\n",
    "    try:\n",
    "        c.execute(query)\n",
    "    except:\n",
    "        print(\"failed on:\", query)\n",
    "    count += 1\n",
    "    if count % 1000000 == 0:\n",
    "        print(\"inserted \", count)"
   ]
  },
  {
   "cell_type": "code",
   "execution_count": 6,
   "metadata": {
    "collapsed": false
   },
   "outputs": [
    {
     "name": "stdout",
     "output_type": "stream",
     "text": [
      "[(1, 22, 'Alba'), (2, 22, 'Scotland, United Kingdom'), (3, 22, 'SCT'), (4, 22, 'Caledonia'), (5, 22, 'scot'), (6, 31, 'Kingdom of Belgium'), (7, 31, 'be'), (8, 1, 'space'), (9, 1, 'Cosmos'), (10, 1, 'outer space'), (11, 1, 'universe (class)'), (12, 1, 'universe, a'), (13, 13, 'fear of 13'), (14, 23, 'Father of the United States'), (15, 23, 'Washington'), (16, 23, 'President Washington'), (17, 35, 'DK'), (18, 35, 'Danmark'), (19, 35, 'DNK'), (20, 35, 'DEK'), (21, 35, 'dk'), (22, 35, 'Denmark proper'), (23, 35, 'metropolitan Denmark'), (24, 35, '🇩🇰'), (25, 64, 'Berlin, Germany'), (26, 82, 'computer printer'), (27, 84, 'London, UK'), (28, 84, 'London, United Kingdom'), (29, 84, 'London, England'), (30, 102, 'pneumonoultramicroscopicsilicovolcanokoniosis'), (31, 109, 'Feb'), (32, 109, '2. month'), (33, 116, 'king'), (34, 116, 'queen'), (35, 124, 'Oct'), (36, 124, '10. month'), (37, 126, 'Dec'), (38, 126, '12. month'), (39, 139, '♕'), (40, 139, '♛'), (41, 139, 'Q'), (42, 142, 'FR'), (43, 142, 'République française'), (44, 142, 'La France'), (45, 142, 'fr'), (46, 142, 'French Republic'), (47, 142, 'Republic of France'), (48, 145, 'UK'), (49, 145, 'United Kingdom of Great Britain and Northern Ireland'), (50, 145, 'UKGBNI')]\n"
     ]
    }
   ],
   "source": [
    "c.execute('SELECT * FROM aliases LIMIT 50')\n",
    "print(c.fetchall())"
   ]
  },
  {
   "cell_type": "code",
   "execution_count": 7,
   "metadata": {
    "collapsed": false
   },
   "outputs": [
    {
     "name": "stdout",
     "output_type": "stream",
     "text": [
      "[('Douglas Noël Adams',), ('Douglas Noel Adams',), ('Douglas N. Adams',), ('DNA',)]\n"
     ]
    }
   ],
   "source": [
    "c.execute('SELECT alias FROM aliases WHERE id = 42')\n",
    "print(c.fetchall())"
   ]
  },
  {
   "cell_type": "markdown",
   "metadata": {},
   "source": [
    "### Load and store labels"
   ]
  },
  {
   "cell_type": "code",
   "execution_count": 9,
   "metadata": {
    "collapsed": false
   },
   "outputs": [
    {
     "data": {
      "text/plain": [
       "<sqlite3.Cursor at 0x7f66702c80a0>"
      ]
     },
     "execution_count": 9,
     "metadata": {},
     "output_type": "execute_result"
    }
   ],
   "source": [
    "c.execute('CREATE TABLE labels(id integer NOT NULL PRIMARY KEY, label char(100) NOT NULL)')"
   ]
  },
  {
   "cell_type": "code",
   "execution_count": 10,
   "metadata": {
    "collapsed": false
   },
   "outputs": [
    {
     "name": "stdout",
     "output_type": "stream",
     "text": [
      "inserted  1000000\n",
      "inserted  2000000\n",
      "inserted  3000000\n",
      "inserted  4000000\n",
      "inserted  5000000\n",
      "inserted  6000000\n",
      "inserted  7000000\n",
      "inserted  8000000\n",
      "inserted  9000000\n",
      "inserted  10000000\n",
      "inserted  11000000\n",
      "inserted  12000000\n",
      "inserted  13000000\n",
      "inserted  14000000\n"
     ]
    }
   ],
   "source": [
    "count = 0\n",
    "for rec in load('./wikidata-20170313_combined/labels_en.txt'):\n",
    "    query = 'INSERT INTO labels VALUES ({id}, \"{label}\")'.format(id=rec['id'].replace('Q', ''), label=rec['value'].replace('\"','\"\"'))\n",
    "    try:\n",
    "        c.execute(query)\n",
    "    except:\n",
    "        print(\"failed on:\", query)\n",
    "    count += 1\n",
    "    if count % 1000000 == 0:\n",
    "        print(\"inserted \", count)"
   ]
  },
  {
   "cell_type": "code",
   "execution_count": 11,
   "metadata": {
    "collapsed": false
   },
   "outputs": [
    {
     "name": "stdout",
     "output_type": "stream",
     "text": [
      "[(1, 'universe'), (2, 'Earth'), (3, 'life'), (4, 'death'), (5, 'human'), (8, 'happiness'), (13, 'triskaidekaphobia'), (15, 'Africa'), (16, 'Canada'), (17, 'Japan'), (18, 'South America'), (19, 'cheating'), (20, 'Norway'), (21, 'England'), (22, 'Scotland'), (23, 'George Washington'), (24, 'Jack Bauer'), (25, 'Wales'), (26, 'Northern Ireland'), (27, 'Ireland'), (28, 'Hungary'), (29, 'Spain'), (30, 'United States of America'), (31, 'Belgium'), (32, 'Luxembourg'), (33, 'Finland'), (34, 'Sweden'), (35, 'Denmark'), (36, 'Poland'), (37, 'Lithuania'), (38, 'Italy'), (39, 'Switzerland'), (40, 'Austria'), (41, 'Greece'), (42, 'Douglas Adams'), (43, 'Turkey'), (44, 'beer'), (45, 'Portugal'), (46, 'Europe'), (48, 'Asia'), (49, 'North America'), (51, 'Antarctica'), (52, 'Wikipedia'), (53, 'Club-Mate'), (54, 'all your base are belong to us'), (55, 'Netherlands'), (56, 'lolcat'), (57, 'Never Gonna Give You Up'), (58, 'penis'), (59, 'PHP')]\n"
     ]
    }
   ],
   "source": [
    "c.execute('SELECT * FROM labels LIMIT 50')\n",
    "print(c.fetchall())"
   ]
  },
  {
   "cell_type": "code",
   "execution_count": 12,
   "metadata": {
    "collapsed": false,
    "scrolled": true
   },
   "outputs": [
    {
     "name": "stdout",
     "output_type": "stream",
     "text": [
      "[('Douglas Adams',)]\n"
     ]
    }
   ],
   "source": [
    "c.execute('SELECT label FROM labels WHERE id = 42')\n",
    "print(c.fetchall())"
   ]
  },
  {
   "cell_type": "markdown",
   "metadata": {
    "collapsed": true
   },
   "source": [
    "### Load and store instances"
   ]
  },
  {
   "cell_type": "code",
   "execution_count": 13,
   "metadata": {
    "collapsed": false
   },
   "outputs": [
    {
     "data": {
      "text/plain": [
       "<sqlite3.Cursor at 0x7f66702c80a0>"
      ]
     },
     "execution_count": 13,
     "metadata": {},
     "output_type": "execute_result"
    }
   ],
   "source": [
    "c.execute('CREATE TABLE instances(child_id integer NOT NULL, parent_id integer NOT NULL, PRIMARY KEY (child_id, parent_id))')"
   ]
  },
  {
   "cell_type": "code",
   "execution_count": 16,
   "metadata": {
    "collapsed": false
   },
   "outputs": [
    {
     "name": "stdout",
     "output_type": "stream",
     "text": [
      "inserted  1000000\n",
      "inserted  2000000\n",
      "inserted  3000000\n",
      "inserted  4000000\n",
      "inserted  5000000\n",
      "inserted  6000000\n",
      "inserted  7000000\n",
      "inserted  8000000\n",
      "inserted  9000000\n",
      "inserted  10000000\n",
      "inserted  11000000\n",
      "inserted  12000000\n",
      "inserted  13000000\n",
      "inserted  14000000\n",
      "inserted  15000000\n",
      "inserted  16000000\n",
      "inserted  17000000\n",
      "inserted  18000000\n",
      "inserted  19000000\n",
      "inserted  20000000\n"
     ]
    }
   ],
   "source": [
    "count = 0\n",
    "for rec in load('./wikidata-20170313_combined/instances.txt'):\n",
    "    query = 'INSERT OR IGNORE INTO instances VALUES ({child_id}, {parent_id})'.format(child_id=rec['child'].replace('Q', ''), parent_id=rec['parent'].replace('Q', ''))\n",
    "    try:\n",
    "        c.execute(query)\n",
    "    except:\n",
    "        print(\"failed on:\", query)\n",
    "    count += 1\n",
    "    if count % 1000000 == 0:\n",
    "        print(\"inserted \", count)"
   ]
  },
  {
   "cell_type": "code",
   "execution_count": 17,
   "metadata": {
    "collapsed": false
   },
   "outputs": [
    {
     "name": "stdout",
     "output_type": "stream",
     "text": [
      "[(22, 3336843), (31, 3624078), (31, 43702), (31, 185441), (31, 6256), (31, 160016), (31, 6505795), (1, 1454986), (13, 175854), (23, 5), (35, 185441), (35, 1191549), (35, 6256), (64, 1901835), (64, 200250), (64, 257391), (64, 1549591), (64, 1221156), (64, 262166), (64, 1637706), (64, 133442), (64, 1307779), (64, 515), (64, 15974307), (84, 1637706), (84, 200250), (84, 1066984), (84, 5119), (84, 515), (102, 101991), (105, 41825), (116, 4164871), (127, 41825), (128, 41825), (142, 3624078), (142, 185441), (142, 160016), (142, 6505795), (142, 6688521), (142, 6256), (144, 502895), (144, 213907), (145, 202686), (145, 112099), (145, 3624078), (145, 6256), (145, 6688521), (145, 185441), (145, 160016), (150, 34770)]\n"
     ]
    }
   ],
   "source": [
    "c.execute('SELECT * FROM instances LIMIT 50')\n",
    "print(c.fetchall())"
   ]
  },
  {
   "cell_type": "code",
   "execution_count": 18,
   "metadata": {
    "collapsed": false
   },
   "outputs": [
    {
     "name": "stdout",
     "output_type": "stream",
     "text": [
      "[(5,)]\n"
     ]
    }
   ],
   "source": [
    "c.execute('SELECT parent_id FROM instances WHERE child_id = 42')\n",
    "print(c.fetchall())"
   ]
  },
  {
   "cell_type": "markdown",
   "metadata": {
    "collapsed": true
   },
   "source": [
    "### Load and store subclasses"
   ]
  },
  {
   "cell_type": "code",
   "execution_count": 19,
   "metadata": {
    "collapsed": false
   },
   "outputs": [
    {
     "data": {
      "text/plain": [
       "<sqlite3.Cursor at 0x7f66702c80a0>"
      ]
     },
     "execution_count": 19,
     "metadata": {},
     "output_type": "execute_result"
    }
   ],
   "source": [
    "c.execute('CREATE TABLE subclasses(child_id integer NOT NULL, parent_id integer NOT NULL, PRIMARY KEY (child_id, parent_id))')"
   ]
  },
  {
   "cell_type": "code",
   "execution_count": 22,
   "metadata": {
    "collapsed": false
   },
   "outputs": [
    {
     "name": "stdout",
     "output_type": "stream",
     "text": [
      "inserted  1000000\n",
      "inserted  2000000\n"
     ]
    }
   ],
   "source": [
    "count = 0\n",
    "for rec in load('./wikidata-20170313_combined/subclasses.txt'):\n",
    "    query = 'INSERT OR IGNORE INTO subclasses VALUES ({child_id}, {parent_id})'.format(child_id=rec['child'].replace('Q', ''), parent_id=rec['parent'].replace('Q', ''))\n",
    "    try:\n",
    "        c.execute(query)\n",
    "    except:\n",
    "        print(\"failed on:\", query)\n",
    "    count += 1\n",
    "    if count % 1000000 == 0:\n",
    "        print(\"inserted \", count)"
   ]
  },
  {
   "cell_type": "code",
   "execution_count": 23,
   "metadata": {
    "collapsed": false
   },
   "outputs": [
    {
     "name": "stdout",
     "output_type": "stream",
     "text": [
      "[(13, 37141), (44, 154), (82, 11019), (102, 4135602), (105, 41825), (109, 18602249), (116, 82955), (124, 18602249), (126, 18602249), (127, 41825), (128, 41825), (139, 208440), (144, 622852), (144, 39201), (150, 37351), (153, 156), (153, 1383944), (165, 15324), (179, 309078), (179, 210932), (179, 15062149), (179, 2523684), (190, 15619164), (209, 692086), (209, 2543717), (209, 3801534), (209, 1194115), (209, 45867), (209, 7135025), (276, 15416), (276, 1955280), (282, 154), (318, 6999), (349, 1914636), (381, 1475825), (454, 3505845), (499, 17781690), (507, 28874617), (507, 28911163), (523, 6999), (532, 14788575), (561, 553), (561, 25452965), (592, 6636), (592, 17884), (627, 106675), (627, 207712), (629, 104567), (629, 19753344), (629, 207712)]\n"
     ]
    }
   ],
   "source": [
    "c.execute('SELECT * FROM subclasses LIMIT 50')\n",
    "print(c.fetchall())"
   ]
  },
  {
   "cell_type": "code",
   "execution_count": 24,
   "metadata": {
    "collapsed": false
   },
   "outputs": [
    {
     "name": "stdout",
     "output_type": "stream",
     "text": [
      "[(14788575,)]\n"
     ]
    }
   ],
   "source": [
    "c.execute('SELECT parent_id FROM subclasses WHERE child_id = 532')\n",
    "print(c.fetchall())"
   ]
  },
  {
   "cell_type": "markdown",
   "metadata": {
    "collapsed": true
   },
   "source": [
    "### Commit and close"
   ]
  },
  {
   "cell_type": "code",
   "execution_count": 25,
   "metadata": {
    "collapsed": true
   },
   "outputs": [],
   "source": [
    "conn.commit()\n",
    "conn.close()"
   ]
  },
  {
   "cell_type": "code",
   "execution_count": null,
   "metadata": {
    "collapsed": true
   },
   "outputs": [],
   "source": []
  }
 ],
 "metadata": {
  "anaconda-cloud": {},
  "kernelspec": {
   "display_name": "Python [conda root]",
   "language": "python",
   "name": "conda-root-py"
  },
  "language_info": {
   "codemirror_mode": {
    "name": "ipython",
    "version": 3
   },
   "file_extension": ".py",
   "mimetype": "text/x-python",
   "name": "python",
   "nbconvert_exporter": "python",
   "pygments_lexer": "ipython3",
   "version": "3.5.2"
  }
 },
 "nbformat": 4,
 "nbformat_minor": 1
}
