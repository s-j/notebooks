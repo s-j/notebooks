{
 "cells": [
  {
   "cell_type": "code",
   "execution_count": 7,
   "metadata": {
    "collapsed": true
   },
   "outputs": [],
   "source": [
    "import spacy"
   ]
  },
  {
   "cell_type": "code",
   "execution_count": 23,
   "metadata": {},
   "outputs": [],
   "source": [
    "text = 'For months after he replied to Operation Painthall\\u2019s email, Lundqvist heard nothing back from the British detectives.\\n\\nThen in May 2017, the Swedish newspaper Kvallsposten published a story on Operation Painthall\\u2019s inquiry.\\n\\nA few days later, Lundqvist received a reply - this time from the man leading the cold case review, Detective Chief Inspector James Dunkerley.\\n\\nDCI Dunkerley wrote that it was absolutely certain that Sutcliffe had never been in Sweden.The telex that Operation Painthall had originally written about described nothing more than a rumour. As far as he was concerned, the case was closed.\\n\\nExcept that for Lundqvist, the journey had just started. If it hadn\\u2019t been for Operation Painthall, he wouldn\\u2019t have known about the unsolved murders of Teresa Thorling and Gertie Jensen. Now he did, he was determined to see the investigation through to the end.\\n\\nHis next hurdle was negotiating the Swedish statute of limitations.\\n\\nUntil recently, Swedish law had ruled that any crime committed more than 25 years ago was barred from being prosecuted. In 2010, the Swedish parliament changed the cut-off date for prosecutions to 1 July 1985. Lundqvist suspects this date was chosen to make sure the still-unsolved murder of the Swedish Prime Minister, Olof Palme, in 1986 would never fall beyond the statute.\\n\\n\\u201CIn a matter of years, this date won\\u2019t matter anymore because all those involved in the crimes will have passed on,\\u201D he says.\\n\\n\\u201CBut for now we should only care whether we can prosecute or not. Modern techniques to solve old crimes are so much better, and they\\u2019ll keep improving, so the statute shouldn\\u2019t stop us looking for justice.\\u201D\\n\\nTo get past the statute, Lundqvist has turned to criminal psychiatrists and profilers to help build a case for testing the forensic evidence saved from the 1980s murders.\\n\\n\\u201CWe\\'re now of the opinion that the Gothenburg and Malmo murders were carried out by the same perpetrator,\\u201D he says.\\n\\nThis is significant, he says, because if the perpetrator killed twice, it is likely he went on to kill again and it\\u2019s possible that one of these crimes occurred after the 1985 cut-off date for prosecution.\\n\\nLundqvist has used this argument to justify testing the hair found on Teresa\\u2019s body for DNA. In December, he sent the evidence from her murder to the Swedish National Forensics Laboratory in Link\\u00F6ping.\\n\\nHe expects the results anytime soon.\\n\\n\\u201CIt\\u2019s important to speak for the dead, whether they are a prostitute or whether they have a profession of any sort,\\u201D he says.\\n\\n\\u201CAnd it\\u2019s very, very important to solve homicides. It has a calming effect.\\n\\n\\u201CThe more [killings] that are done, and the fewer we solve, the more there will be.\\\"'"
   ]
  },
  {
   "cell_type": "code",
   "execution_count": 24,
   "metadata": {},
   "outputs": [
    {
     "data": {
      "text/plain": [
       "'For months after he replied to Operation Painthall’s email, Lundqvist heard nothing back from the British detectives.\\n\\nThen in May 2017, the Swedish newspaper Kvallsposten published a story on Operation Painthall’s inquiry.\\n\\nA few days later, Lundqvist received a reply - this time from the man leading the cold case review, Detective Chief Inspector James Dunkerley.\\n\\nDCI Dunkerley wrote that it was absolutely certain that Sutcliffe had never been in Sweden.The telex that Operation Painthall had originally written about described nothing more than a rumour. As far as he was concerned, the case was closed.\\n\\nExcept that for Lundqvist, the journey had just started. If it hadn’t been for Operation Painthall, he wouldn’t have known about the unsolved murders of Teresa Thorling and Gertie Jensen. Now he did, he was determined to see the investigation through to the end.\\n\\nHis next hurdle was negotiating the Swedish statute of limitations.\\n\\nUntil recently, Swedish law had ruled that any crime committed more than 25 years ago was barred from being prosecuted. In 2010, the Swedish parliament changed the cut-off date for prosecutions to 1 July 1985. Lundqvist suspects this date was chosen to make sure the still-unsolved murder of the Swedish Prime Minister, Olof Palme, in 1986 would never fall beyond the statute.\\n\\n“In a matter of years, this date won’t matter anymore because all those involved in the crimes will have passed on,” he says.\\n\\n“But for now we should only care whether we can prosecute or not. Modern techniques to solve old crimes are so much better, and they’ll keep improving, so the statute shouldn’t stop us looking for justice.”\\n\\nTo get past the statute, Lundqvist has turned to criminal psychiatrists and profilers to help build a case for testing the forensic evidence saved from the 1980s murders.\\n\\n“We\\'re now of the opinion that the Gothenburg and Malmo murders were carried out by the same perpetrator,” he says.\\n\\nThis is significant, he says, because if the perpetrator killed twice, it is likely he went on to kill again and it’s possible that one of these crimes occurred after the 1985 cut-off date for prosecution.\\n\\nLundqvist has used this argument to justify testing the hair found on Teresa’s body for DNA. In December, he sent the evidence from her murder to the Swedish National Forensics Laboratory in Linköping.\\n\\nHe expects the results anytime soon.\\n\\n“It’s important to speak for the dead, whether they are a prostitute or whether they have a profession of any sort,” he says.\\n\\n“And it’s very, very important to solve homicides. It has a calming effect.\\n\\n“The more [killings] that are done, and the fewer we solve, the more there will be.\"'"
      ]
     },
     "execution_count": 24,
     "metadata": {},
     "output_type": "execute_result"
    }
   ],
   "source": [
    "text"
   ]
  },
  {
   "cell_type": "code",
   "execution_count": 25,
   "metadata": {},
   "outputs": [
    {
     "name": "stdout",
     "output_type": "stream",
     "text": [
      "months DATE\n",
      "Operation Painthall’s ORG\n",
      "British NORP\n",
      "May 2017 DATE\n",
      "Swedish NORP\n",
      "Kvallsposten ORG\n",
      "Operation Painthall’s ORG\n",
      "A few days later DATE\n",
      "Lundqvist PERSON\n",
      "James Dunkerley PERSON\n",
      "Dunkerley PERSON\n",
      "Sutcliffe ORG\n",
      "Sweden GPE\n",
      "Operation Painthall ORG\n",
      "Lundqvist PERSON\n",
      "Operation Painthall ORG\n",
      "Teresa Thorling PERSON\n",
      "Gertie Jensen PERSON\n",
      "Swedish NORP\n",
      "Swedish NORP\n",
      "more than 25 years ago DATE\n",
      "2010 DATE\n",
      "Swedish NORP\n",
      "1 July 1985 DATE\n",
      "Swedish NORP\n",
      "Olof Palme PERSON\n",
      "1986 DATE\n",
      "a matter of years DATE\n",
      "Lundqvist PERSON\n",
      "the 1980s DATE\n",
      "Gothenburg GPE\n",
      "1985 DATE\n",
      "Teresa ORG\n",
      "December DATE\n",
      "the Swedish National Forensics Laboratory ORG\n",
      "Linköping GPE\n"
     ]
    }
   ],
   "source": [
    "nlp = spacy.load('en')\n",
    "doc = nlp(text)\n",
    "for ent in doc.ents:\n",
    "    print(ent.text, ent.label_)"
   ]
  },
  {
   "cell_type": "code",
   "execution_count": null,
   "metadata": {
    "collapsed": true
   },
   "outputs": [],
   "source": []
  }
 ],
 "metadata": {
  "kernelspec": {
   "display_name": "Python 3",
   "language": "python",
   "name": "python3"
  },
  "language_info": {
   "codemirror_mode": {
    "name": "ipython",
    "version": 3
   },
   "file_extension": ".py",
   "mimetype": "text/x-python",
   "name": "python",
   "nbconvert_exporter": "python",
   "pygments_lexer": "ipython3",
   "version": "3.6.1"
  }
 },
 "nbformat": 4,
 "nbformat_minor": 2
}
