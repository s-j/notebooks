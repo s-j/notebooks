{
 "cells": [
  {
   "cell_type": "code",
   "execution_count": 22,
   "metadata": {
    "collapsed": true
   },
   "outputs": [],
   "source": [
    "# Using https://github.com/codelucas/newspaper\n",
    "from newspaper import Article"
   ]
  },
  {
   "cell_type": "code",
   "execution_count": 3,
   "metadata": {
    "collapsed": true
   },
   "outputs": [],
   "source": [
    "article = Article(\"http://www.bbc.co.uk/news/resources/idt-sh/the_ripper_and_the_swedish_murders\")"
   ]
  },
  {
   "cell_type": "code",
   "execution_count": 14,
   "metadata": {
    "collapsed": true
   },
   "outputs": [],
   "source": [
    "article.download()\n",
    "article.parse()\n",
    "article.nlp()"
   ]
  },
  {
   "cell_type": "code",
   "execution_count": 15,
   "metadata": {},
   "outputs": [
    {
     "data": {
      "text/plain": [
       "[]"
      ]
     },
     "execution_count": 15,
     "metadata": {},
     "output_type": "execute_result"
    }
   ],
   "source": [
    "article.authors"
   ]
  },
  {
   "cell_type": "code",
   "execution_count": 16,
   "metadata": {},
   "outputs": [
    {
     "data": {
      "text/plain": [
       "'For months after he replied to Operation Painthall’s email, Lundqvist heard nothing back from the British detectives.\\n\\nThen in May 2017, the Swedish newspaper Kvallsposten published a story on Operation Painthall’s inquiry.\\n\\nA few days later, Lundqvist received a reply - this time from the man leading the cold case review, Detective Chief Inspector James Dunkerley.\\n\\nDCI Dunkerley wrote that it was absolutely certain that Sutcliffe had never been in Sweden.The telex that Operation Painthall had originally written about described nothing more than a rumour. As far as he was concerned, the case was closed.\\n\\nExcept that for Lundqvist, the journey had just started. If it hadn’t been for Operation Painthall, he wouldn’t have known about the unsolved murders of Teresa Thorling and Gertie Jensen. Now he did, he was determined to see the investigation through to the end.\\n\\nHis next hurdle was negotiating the Swedish statute of limitations.\\n\\nUntil recently, Swedish law had ruled that any crime committed more than 25 years ago was barred from being prosecuted. In 2010, the Swedish parliament changed the cut-off date for prosecutions to 1 July 1985. Lundqvist suspects this date was chosen to make sure the still-unsolved murder of the Swedish Prime Minister, Olof Palme, in 1986 would never fall beyond the statute.\\n\\n“In a matter of years, this date won’t matter anymore because all those involved in the crimes will have passed on,” he says.\\n\\n“But for now we should only care whether we can prosecute or not. Modern techniques to solve old crimes are so much better, and they’ll keep improving, so the statute shouldn’t stop us looking for justice.”\\n\\nTo get past the statute, Lundqvist has turned to criminal psychiatrists and profilers to help build a case for testing the forensic evidence saved from the 1980s murders.\\n\\n“We\\'re now of the opinion that the Gothenburg and Malmo murders were carried out by the same perpetrator,” he says.\\n\\nThis is significant, he says, because if the perpetrator killed twice, it is likely he went on to kill again and it’s possible that one of these crimes occurred after the 1985 cut-off date for prosecution.\\n\\nLundqvist has used this argument to justify testing the hair found on Teresa’s body for DNA. In December, he sent the evidence from her murder to the Swedish National Forensics Laboratory in Linköping.\\n\\nHe expects the results anytime soon.\\n\\n“It’s important to speak for the dead, whether they are a prostitute or whether they have a profession of any sort,” he says.\\n\\n“And it’s very, very important to solve homicides. It has a calming effect.\\n\\n“The more [killings] that are done, and the fewer we solve, the more there will be.\"'"
      ]
     },
     "execution_count": 16,
     "metadata": {},
     "output_type": "execute_result"
    }
   ],
   "source": [
    "article.text"
   ]
  },
  {
   "cell_type": "code",
   "execution_count": 17,
   "metadata": {},
   "outputs": [
    {
     "data": {
      "text/plain": [
       "'https://news.files.bbci.co.uk/vj/live/idt-images/shorthand-the_ripper_and_the_swedish_murders/bridge-shore-view_v1zni.jpg'"
      ]
     },
     "execution_count": 17,
     "metadata": {},
     "output_type": "execute_result"
    }
   ],
   "source": [
    "article.top_image"
   ]
  },
  {
   "cell_type": "code",
   "execution_count": 18,
   "metadata": {},
   "outputs": [
    {
     "data": {
      "text/plain": [
       "['lundqvist',\n",
       " 'operation',\n",
       " 'date',\n",
       " 'solve',\n",
       " 'case',\n",
       " 'ripper',\n",
       " 'crimes',\n",
       " 'perpetrator',\n",
       " 'murders',\n",
       " 'statute',\n",
       " 'swedish',\n",
       " 'testing']"
      ]
     },
     "execution_count": 18,
     "metadata": {},
     "output_type": "execute_result"
    }
   ],
   "source": [
    "article.keywords"
   ]
  },
  {
   "cell_type": "code",
   "execution_count": 19,
   "metadata": {},
   "outputs": [
    {
     "data": {
      "text/plain": [
       "\"Then in May 2017, the Swedish newspaper Kvallsposten published a story on Operation Painthall’s inquiry.\\nIf it hadn’t been for Operation Painthall, he wouldn’t have known about the unsolved murders of Teresa Thorling and Gertie Jensen.\\nHis next hurdle was negotiating the Swedish statute of limitations.\\nUntil recently, Swedish law had ruled that any crime committed more than 25 years ago was barred from being prosecuted.\\n“We're now of the opinion that the Gothenburg and Malmo murders were carried out by the same perpetrator,” he says.\""
      ]
     },
     "execution_count": 19,
     "metadata": {},
     "output_type": "execute_result"
    }
   ],
   "source": [
    "article.summary"
   ]
  },
  {
   "cell_type": "code",
   "execution_count": 20,
   "metadata": {},
   "outputs": [
    {
     "data": {
      "text/plain": [
       "'http://www.bbc.co.uk/news/resources/idt-sh/the_ripper_and_the_swedish_murders'"
      ]
     },
     "execution_count": 20,
     "metadata": {},
     "output_type": "execute_result"
    }
   ],
   "source": [
    "article.canonical_link"
   ]
  },
  {
   "cell_type": "code",
   "execution_count": 21,
   "metadata": {},
   "outputs": [
    {
     "data": {
      "text/plain": [
       "'The Ripper and the Swedish murders'"
      ]
     },
     "execution_count": 21,
     "metadata": {},
     "output_type": "execute_result"
    }
   ],
   "source": [
    "article.title"
   ]
  },
  {
   "cell_type": "code",
   "execution_count": null,
   "metadata": {
    "collapsed": true
   },
   "outputs": [],
   "source": []
  }
 ],
 "metadata": {
  "kernelspec": {
   "display_name": "Python 3",
   "language": "python",
   "name": "python3"
  },
  "language_info": {
   "codemirror_mode": {
    "name": "ipython",
    "version": 3
   },
   "file_extension": ".py",
   "mimetype": "text/x-python",
   "name": "python",
   "nbconvert_exporter": "python",
   "pygments_lexer": "ipython3",
   "version": "3.6.1"
  }
 },
 "nbformat": 4,
 "nbformat_minor": 2
}
