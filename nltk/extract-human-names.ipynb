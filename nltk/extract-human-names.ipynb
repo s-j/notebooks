{
 "cells": [
  {
   "cell_type": "code",
   "execution_count": 93,
   "metadata": {
    "collapsed": false
   },
   "outputs": [],
   "source": [
    "import nltk\n",
    "\n",
    "text = \"\"\"\n",
    "Some economists have responded positively to Bitcoin, including \n",
    "Francois R. Velde, senior economist of the Federal Reserve in Chicago \n",
    "who described it as \"an elegant solution to the problem of creating a \n",
    "digital currency.\" In November 2013 Richard Branson announced that \n",
    "Virgin Galactic would accept Bitcoin as payment, saying that he had invested \n",
    "in Bitcoin and found it \"fascinating how a whole new global currency \n",
    "has been created\", encouraging others to also invest in Bitcoin.\n",
    "Other economists commenting on Bitcoin have been critical. \n",
    "Economist Paul Krugman has suggested that the structure of the currency \n",
    "incentivizes hoarding and that its value derives from the expectation that \n",
    "others will accept it as payment. Economist Larry Summers has expressed \n",
    "a \"wait and see\" attitude when it comes to Bitcoin. Nick Colas, a market \n",
    "strategist for ConvergEx Group, has remarked on the effect of increasing \n",
    "use of Bitcoin and its restricted supply, noting, \"When incremental \n",
    "adoption meets relatively fixed supply, it should be no surprise that \n",
    "prices go up. And that’s exactly what is happening to BTC prices.\"\n",
    "\"\"\""
   ]
  },
  {
   "cell_type": "code",
   "execution_count": 94,
   "metadata": {
    "collapsed": false
   },
   "outputs": [
    {
     "name": "stdout",
     "output_type": "stream",
     "text": [
      "['Francois R. Velde', 'Richard Branson', 'Virgin Galactic', 'Bitcoin', 'Economist Paul Krugman', 'Economist Larry Summers', 'Nick Colas']\n"
     ]
    }
   ],
   "source": [
    "def get_human_names(text):\n",
    "    tokens = nltk.tokenize.word_tokenize(text)\n",
    "    pos = nltk.pos_tag(tokens)\n",
    "    sentt = nltk.ne_chunk(pos, binary = False)\n",
    "    person_list = []\n",
    "    person = []\n",
    "    name = \"\"\n",
    "    for subtree in sentt.subtrees(filter=lambda t: t.label() == 'PERSON'):\n",
    "        for leave in subtree.leaves():\n",
    "            name += leave[0] + ' '\n",
    "        if name[:-1] not in person_list:\n",
    "            person_list.append(name[:-1])\n",
    "        name = ''\n",
    "\n",
    "    return (person_list)\n",
    "\n",
    "\n",
    "print(get_human_names(text))"
   ]
  },
  {
   "cell_type": "code",
   "execution_count": null,
   "metadata": {
    "collapsed": true
   },
   "outputs": [],
   "source": []
  }
 ],
 "metadata": {
  "anaconda-cloud": {},
  "kernelspec": {
   "display_name": "Python [conda root]",
   "language": "python",
   "name": "conda-root-py"
  },
  "language_info": {
   "codemirror_mode": {
    "name": "ipython",
    "version": 3
   },
   "file_extension": ".py",
   "mimetype": "text/x-python",
   "name": "python",
   "nbconvert_exporter": "python",
   "pygments_lexer": "ipython3",
   "version": "3.5.2"
  }
 },
 "nbformat": 4,
 "nbformat_minor": 1
}
